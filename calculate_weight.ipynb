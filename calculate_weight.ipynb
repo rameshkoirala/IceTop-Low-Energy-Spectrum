{
 "cells": [
  {
   "cell_type": "code",
   "execution_count": 1,
   "metadata": {
    "hideCode": false
   },
   "outputs": [
    {
     "name": "stdout",
     "output_type": "stream",
     "text": [
      "Steering File\n",
      "Select which variable to choose as energy proxy.\n"
     ]
    }
   ],
   "source": [
    "print \"Steering File\"\n",
    "print \"Select which variable to choose as energy proxy.\"\n",
    "\n",
    "import glob\n",
    "import numpy\n",
    "import sys, os\n",
    "import tables\n",
    "from decimal import Decimal\n",
    "\n",
    "isqgsjet = True\n",
    "isML     = False\n",
    "lowenedir = '/Users/ramesh/GoogleDrive/LowEnergy/'\n",
    "pdgcode_dict       = {\n",
    "                        'proton':2212,\n",
    "                        'helium':1000020040,\n",
    "                        'oxygen':1000080160,\n",
    "                        'iron'  :1000260560\n",
    "                     }"
   ]
  },
  {
   "cell_type": "code",
   "execution_count": 3,
   "metadata": {
    "hideCode": false,
    "hideOutput": false,
    "scrolled": false
   },
   "outputs": [
    {
     "name": "stdout",
     "output_type": "stream",
     "text": [
      "2212\n",
      "qgsjet proton\n",
      "qgsjet proton\n",
      "1000020040\n",
      "qgsjet helium\n",
      "qgsjet helium\n",
      "1000080160\n",
      "qgsjet oxygen\n",
      "qgsjet oxygen\n",
      "1000260560\n",
      "qgsjet iron\n",
      "qgsjet iron\n",
      "73865 73865\n",
      "Done calculating H4a model weight.\n"
     ]
    }
   ],
   "source": [
    "# Calculate GSF weight on each event.\n",
    "datadir  = '/Users/ramesh/GoogleDrive/LowEnergy/'\n",
    "    \n",
    "# Required to get hits tank position, its charge, and its time.\n",
    "sys.path.append('/Users/ramesh/GoogleDrive/LowEnergy/Paper')\n",
    "from weighting import weighting_H4a\n",
    "\n",
    "sum_wt = 0\n",
    "counter = 0\n",
    "\n",
    "#hf      = tables.open_file(datadir+'analysis_simulation_HLCCoreSeed_slcQcut_fracradius_final.h5', 'a')\n",
    "hf      = tables.open_file(datadir+'analysis_simulation_HLCCoreSeed_slcQcut_everything_qgsjet_final.h5', 'a')\n",
    "Tenergy = hf.root.Energy[:]\n",
    "pdgcode = hf.root.pdg_encoding[:]\n",
    "wt      = numpy.ones(len(Tenergy))\n",
    "wt1par  = numpy.ones(len(Tenergy))\n",
    "for pdg in [2212, 1000020040, 1000080160, 1000260560]: # file_list defined in steering file.\n",
    "    print pdg\n",
    "    if pdg==2212:\n",
    "        element = 'proton'\n",
    "    elif pdg==1000020040:\n",
    "        element = 'helium'\n",
    "    elif pdg==1000080160:\n",
    "        element = 'oxygen'\n",
    "    elif pdg==1000260560:\n",
    "        element = 'iron'\n",
    "        \n",
    "    mask = pdgcode==pdg\n",
    "    energy = Tenergy[mask]\n",
    "    \n",
    "    wt[numpy.where(mask)]     = weighting_H4a(energy, element, isqgsjet=isqgsjet)\n",
    "    wt1par[numpy.where(mask)] = weighting_H4a(energy, element, do='all_particle_flux', isqgsjet=isqgsjet)\n",
    "\n",
    "print len(wt), len(wt1par)\n",
    "if 'WeightH4aOrig' in hf.root:\n",
    "    hf.remove_node('/', 'WeightH4aOrig')\n",
    "if 'Weight1ParticleAssumptionH4aOrig' in hf.root:\n",
    "    hf.remove_node('/', 'Weight1ParticleAssumptionH4aOrig')\n",
    "    \n",
    "hf.create_array('/', 'WeightH4aOrig', wt)\n",
    "hf.create_array('/', 'Weight1ParticleAssumptionH4aOrig', wt1par)\n",
    "hf.close()\n",
    "\n",
    "print \"Done calculating H4a model weight.\""
   ]
  },
  {
   "cell_type": "code",
   "execution_count": null,
   "metadata": {},
   "outputs": [],
   "source": []
  }
 ],
 "metadata": {
  "celltoolbar": "Hide code",
  "kernelspec": {
   "display_name": "Python 2",
   "language": "python",
   "name": "python2"
  },
  "language_info": {
   "codemirror_mode": {
    "name": "ipython",
    "version": 2
   },
   "file_extension": ".py",
   "mimetype": "text/x-python",
   "name": "python",
   "nbconvert_exporter": "python",
   "pygments_lexer": "ipython2",
   "version": "2.7.10"
  }
 },
 "nbformat": 4,
 "nbformat_minor": 2
}
